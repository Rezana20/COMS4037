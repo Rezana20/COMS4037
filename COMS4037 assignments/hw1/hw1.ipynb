{
 "cells": [
  {
   "cell_type": "markdown",
   "metadata": {},
   "source": [
    "# HW 1: Web log data wrangling\n",
    "\n",
    "### This assignment has been originally developed for [UC Berkeley CS 186 course](http://www.cs186berkeley.net/); we use it for COMS4037 with their gracious permission\n",
    "\n",
    "Please, refer to the HW1 [README](https://github.com/WITS-COMS4037/hw/tree/master/hw1) for the full details for this assignment.\n",
    "\n",
    "--------------------------------------------\n",
    "\n",
    "## Introduction\n",
    "\n",
    "### Jupyter Notebook with IPython\n",
    "\n",
    "Jupyter Notebook is a web-based interactive computing system that allows you to mix code and text in [markdown format](https://en.wikipedia.org/wiki/Markdown) in a single document. A notebook consists of a sequence of cells that can be run by hitting Shift-Enter on the keyboard.\n",
    "\n",
    "In HW1, you will primarily use code cells to work with IPython code. You can find a tour and pointers to documentation in the `Help` menu at the top of this page.\n"
   ]
  },
  {
   "cell_type": "markdown",
   "metadata": {},
   "source": [
    "### The dataset\n",
    "\n",
    "The data are web logs that were produced by an Apache web server; each line represents a request to the server that hosted a video from 2002."
   ]
  },
  {
   "cell_type": "code",
   "execution_count": 9,
   "metadata": {
    "collapsed": false
   },
   "outputs": [],
   "source": [
    "# we assume that the dataset is in ~/coms4037/hw1 \n",
    "import os\n",
    "DATA_DIR = os.environ['HOME'] + '/COMS4037/checkin/hw1/hw1/'"
   ]
  },
  {
   "cell_type": "code",
   "execution_count": 10,
   "metadata": {
    "collapsed": false
   },
   "outputs": [
    {
     "name": "stdout",
     "output_type": "stream",
     "text": [
      "62.172.72.131 - - [02/Jan/2003:02:06:41 -0700] \"GET /random/html/riaa_hacked/ HTTP/1.0\" 200 10564 \"-\" \"Mozilla/4.0 (compatible; MSIE 5.5; Windows NT 4.0; WWP 17 August 2001)\"\n",
      "\n",
      "Start\n",
      "27.4461452960968\n",
      "Done\n"
     ]
    }
   ],
   "source": [
    "# take a look at the first line of a file to see what the data looks like\n",
    "with open(DATA_DIR + \"web_log_small.log\") as log_file:\n",
    "    sample_line = log_file.readline()\n",
    "\n",
    "print( sample_line )\n",
    "process_logs(log_file)"
   ]
  },
  {
   "cell_type": "markdown",
   "metadata": {},
   "source": [
    "The data is in the format called \"Combined Log Format\"; you can find a description of each of the fields [here](https://httpd.apache.org/docs/1.3/logs.html#common)."
   ]
  },
  {
   "cell_type": "markdown",
   "metadata": {},
   "source": [
    "Another way to view the first line of the dataset is to run a shell command using the IPython's [`! operator`](https://ipython.org/ipython-doc/3/interactive/reference.html#system-shell-access), as follows: "
   ]
  },
  {
   "cell_type": "code",
   "execution_count": null,
   "metadata": {
    "collapsed": false
   },
   "outputs": [],
   "source": [
    "!head -1 {DATA_DIR}web_log_small.log"
   ]
  },
  {
   "cell_type": "markdown",
   "metadata": {
    "collapsed": true
   },
   "source": [
    "-----------\n",
    "\n",
    "## Your Assignment\n",
    "\n",
    "You need to complete the implementation of the `process_logs` function in the code given below to meet the specification described in the README file. In doing so, you can add any helper functions. You may also use any of Python 2's standard libraries; you should not, however, use any external libraries.\n",
    "\n",
    "You need to ensure that your code will scale to datasets that are bigger than main memory, regardless of how large or skewed the dataset is or how much memory the executing machine has.  Thus, you should avoid keeping data structures of unbounded size, such as\n",
    "\n",
    "- a list of every line in the dataset\n",
    "- a dictionary with an key for every IP address\n",
    "\n",
    "in memory. \n",
    "\n",
    "### Important\n",
    "\n",
    "To ensure proper grading, make sure that all of your log processing code (including `import` statements) is between the **BEGIN/END STUDENT CODE** cells. Do not modify or remove either of these cells."
   ]
  },
  {
   "cell_type": "markdown",
   "metadata": {},
   "source": [
    "### * BEGIN STUDENT CODE *"
   ]
  },
  {
   "cell_type": "code",
   "execution_count": null,
   "metadata": {
    "collapsed": false
   },
   "outputs": [],
   "source": [
    "import apachetime\n",
    "import time\n",
    "\n",
    "def apache_ts_to_unixtime( ts ):\n",
    "    \"\"\"\n",
    "    @param ts - a Apache timestamp string, e.g. '[02/Jan/2003:02:06:41 -0700]'\n",
    "    @returns int - a Unix timestamp in seconds\n",
    "    \"\"\"\n",
    "    dt = apachetime.apachetime( ts )\n",
    "    unixtime = time.mktime( dt.timetuple() )\n",
    "    return int( unixtime )"
   ]
  },
  {
   "cell_type": "code",
   "execution_count": 8,
   "metadata": {
    "collapsed": false
   },
   "outputs": [],
   "source": [
    "import time\n",
    "def process_logs (dataset_iter ):\n",
    "    \"\"\"\n",
    "    Processes the input stream, and outputs the CSV files described in the README.    \n",
    "    This is the main entry point for your assignment.\n",
    "    \n",
    "    @param dataset_iter - an iterator of Apache log lines.\n",
    "    \"\"\"\n",
    "    # FIX ME\n",
    "    #with open( \"hits.csv\", \"w+\" ) as hits_file:        \n",
    "    #    for i, line in enumerate( dataset_iter ):            \n",
    "    #        if i % 1e5 == 0:\n",
    "    #            print( i ),\n",
    "\n",
    "    log_file=dataset_iter.name\n",
    "    dataset_iter.close()\n",
    "    if os.path.exists(log_file) is False:\n",
    "        log_file=DATA_DIR + dataset_iter.name[:-4] + \".zip\"\n",
    "        if os.path.exists(log_file) is False:\n",
    "            print(\"Error Retrieving ZIP File\")\n",
    "    \n",
    "    hits_file = DATA_DIR + \"hits.csv\"\n",
    "    sessions_file = DATA_DIR + \"sessions.csv\"\n",
    "    plot_file = DATA_DIR + \"session_length_plot.csv\"\n",
    "    \n",
    "    print( \"Start\" )\n",
    "    start = time.time()\n",
    "    os.system(\"\"\"echo %(ip)s | if [ \"$(cut -d'.' -f 2)\" == \"zip\" ]; then unzip -p %(ip)s; else cat %(ip)s; fi | \n",
    "    awk 'BEGIN{print \"ip,timestamp\"; m=split(\"Jan|Feb|Mar|Apr|May|Jun|Jul|Aug|Sep|Oct|Nov|Dec\",d,\"|\")\n",
    "    for(o=1;o<=m;o++){months[d[o]]=sprintf(\"%%02d\",o)}}\n",
    "    {\n",
    "    gsub(/\\[/,\"\",$4); gsub(\":\",\"/\",$4); gsub(/\\]/,\"\",$5);\n",
    "    n=split($4, DATE,\"/\")\n",
    "    day=DATE[1]+0\n",
    "    month_text=DATE[2]\n",
    "    month = months[month_text]+0\n",
    "    year=DATE[3]+0\n",
    "    hour=DATE[4]+0\n",
    "    minute=DATE[5]+0  \n",
    "    second=DATE[6]+0\n",
    "    s=split($5, TIME,\",\")\n",
    "    timezone=TIME[1]\n",
    "    \n",
    "    offsetsign=substr(timezone,1,1)\n",
    "    offsethour=substr(timezone,2,2)\n",
    "    offsetminute=substr(timezone,4,2)\n",
    "    if (offsethour==\"07\") \n",
    "        {if (offsetsign == \"-\") {offset=((offsethour+3)*60*60+offsetminute*60)}\n",
    "        else {if (offsetsign == \"+\") {offset=-((offsethour+3)*60*60+offsetminute*60)}\n",
    "        else {offset=0}}}\n",
    "    else {if (offsetsign == \"-\") {offset=((offsethour+2)*60*60+offsetminute*60)}\n",
    "        else {if (offsetsign == \"+\") offset=-((offsethour+2)*60*60+offsetminute*60)\n",
    "        else {offset=0}}}\n",
    "        \n",
    "    hoursecs = 60 * 60\n",
    "    daysecs = 24 * hoursecs\n",
    "    totaldays=0\n",
    "    total=0\n",
    "    totaldays = (year - 1970) * 365\n",
    "\n",
    "    for (i = 1970; i < year; i++){\n",
    "        if (((i %% 4) == 0 && (i %% 100) != 0) || ((i %% 400) == 0))\n",
    "            totaldays += 1}\n",
    "\n",
    "    months[0,1] = months[0,3] = months[0,5] = months[0,7] = months[0,8] = months[0,10] = months[0,12] = 31\n",
    "    months[1,1] = months[1,3] = months[1,5] = months[1,7] = months[1,8] = months[1,10] = months[1,12] = 31\n",
    "    months[0,4] = months[0,6] = months[0,9] = months[0,11] = 30\n",
    "    months[1,4] = months[1,6] = months[1,9] = months[1,11] = 30\n",
    "    months[0,2] = 28; months[1,2] = 29\n",
    "\n",
    "    j = (((year %% 4) == 0 && (year %% 100) != 0) || ((year %% 400) == 0))\n",
    "\n",
    "    for (i = 1; i < month; i++){\n",
    "        totaldays += months[j, i]}\n",
    "\n",
    "    totaldays += (day - 1)\n",
    "    total += totaldays * daysecs  \n",
    "    utctime = hour - 2\n",
    "    total += (utctime) * hoursecs\n",
    "    total += minute * 60\n",
    "    total += second\n",
    "    ftime=total+offset\n",
    "    print $1\",\"ftime}' | tee %(op)s | sed 1d | sort | \n",
    "    awk -F, 'BEGIN{print \"ip,session_length,num_hits\"}{currentip=$1; currenttime=$2\n",
    "    if (ip != currentip){\n",
    "        sessionlength = time - starttime\n",
    "        if (ip != \"\") {print ip\",\"sessionlength\",\"hits}\n",
    "        sessionlength=0\n",
    "        hits=1\n",
    "        ip=currentip\n",
    "        time=currenttime\n",
    "        starttime=currenttime\n",
    "        } else {\n",
    "            if ((currenttime - time) > 1800 ){\n",
    "            sessionlength = time - starttime\n",
    "            print ip\",\"sessionlength\",\"hits    \n",
    "            sessionlength=0\n",
    "            hits=1\n",
    "            time=currenttime\n",
    "            starttime=currenttime\n",
    "            }\n",
    "            else\n",
    "            {\n",
    "            hits++\n",
    "            time=currenttime            \n",
    "            }\n",
    "        }} END{\n",
    "            if (ip != currentip){\n",
    "            sessionlength = 0\n",
    "            hits=1\n",
    "            if (currentip != \"\") {print currentip\",\"sessionlength\",\"hits}\n",
    "            } else {\n",
    "                if ((currenttime - time) > 1800 ){\n",
    "                sessionlength = 0\n",
    "                hits=1\n",
    "                if (currentip != \"\") {print currentip\",\"sessionlength\",\"hits}    \n",
    "                }\n",
    "                else\n",
    "                {\n",
    "                sessionlength = time - starttime\n",
    "                if (currentip != \"\") {print currentip\",\"sessionlength\",\"hits}\n",
    "                }\n",
    "            }\n",
    "        }' | tee %(op2)s | sed 1d | sort -t $',' -k 2,2 -nr|\n",
    "        awk -F, 'BEGIN{print \"left,right,count\";range[1][0][2]=0;}\n",
    "        {{\n",
    "        if(NR==1){maxrange=$2;{for(i=2; k < maxrange; i++){j=2**(i-1); k=2**i; range[i][j][k]=0;}}}\n",
    "        }\n",
    "        {\n",
    "        sessionlength = $2+0\n",
    "        for (i in range) {for (j in range[i]){for (k in range[i][j])\n",
    "            {if ( (j+0 <= sessionlength) && (sessionlength < k+0) )\n",
    "                {range[i][j][k]=range[i][j][k]+1}}}}\n",
    "        }}\n",
    "        END\n",
    "        {\n",
    "        for (i in range) {for (j in range[i]){for (k in range[i][j]){print j\",\"k\",\"range[i][j][k]}}}\n",
    "        }' | tee %(op3)s \"\"\" % {'ip': log_file, 'op': hits_file, 'op2': sessions_file, 'op3': plot_file})\n",
    "    \n",
    "    end = time.time()\n",
    "    print(end-start)\n",
    "    print( \"Done\" )"
   ]
  },
  {
   "cell_type": "markdown",
   "metadata": {},
   "source": [
    "### * END STUDENT CODE *\n",
    "\n",
    "------------------------\n"
   ]
  },
  {
   "cell_type": "code",
   "execution_count": null,
   "metadata": {
    "collapsed": false,
    "scrolled": true
   },
   "outputs": [],
   "source": [
    "def process_logs_small( ):\n",
    "    \"\"\"\n",
    "    Runs the process_logs function with the small dataset (186 MB).\n",
    "    \"\"\"        \n",
    "    with open( DATA_DIR + \"web_log_small.log\" ) as log_file:\n",
    "        process_logs( log_file )"
   ]
  },
  {
   "cell_type": "code",
   "execution_count": null,
   "metadata": {
    "collapsed": false
   },
   "outputs": [],
   "source": [
    "%time process_logs_small( )"
   ]
  },
  {
   "cell_type": "code",
   "execution_count": null,
   "metadata": {
    "collapsed": false
   },
   "outputs": [],
   "source": [
    "import zipfile\n",
    "\n",
    "def process_logs_large( ):\n",
    "    \"\"\"\n",
    "    Runs the process_logs function on the full dataset.  The code below \n",
    "    performs a streaming unzip of the compressed dataset which is (158MB). \n",
    "    This saves the 1.6GB of disk space needed to unzip this file onto disk.\n",
    "    \"\"\"\n",
    "    with zipfile.ZipFile( DATA_DIR + \"web_log_large.zip\" ) as z:\n",
    "        fname = z.filelist[0].filename\n",
    "        f = z.open( fname )\n",
    "        process_logs( f )\n",
    "        f.close( )"
   ]
  },
  {
   "cell_type": "code",
   "execution_count": null,
   "metadata": {
    "collapsed": false
   },
   "outputs": [],
   "source": [
    "%time process_logs_large( )"
   ]
  },
  {
   "cell_type": "markdown",
   "metadata": {
    "collapsed": true
   },
   "source": [
    "---------------\n",
    "\n",
    "# Testing"
   ]
  },
  {
   "cell_type": "markdown",
   "metadata": {},
   "source": [
    "We provide reference output only for the small dataset. The function `diff_against_reference()` produces `.diff` files if there's a difference between your output and the referrence output.\n",
    "\n",
    "If you're unfamiliar with the format of `diff`'s output, you can read about it [here](https://en.wikipedia.org/wiki/Diff_utility#Usage).\n",
    "\n",
    "There are other diff utilities that produce more convenient output, making it easier to see the differences between the input files. If you're interested, you might try:\n",
    "\n",
    "```\n",
    "$ vimdiff hits.csv ~/coms4037/hw1/ref_output_small/hits.csv\n",
    "OR\n",
    "$ git diff hits.csv ~/coms4037/hw1/ref_output_small/hits.csv\n",
    "```"
   ]
  },
  {
   "cell_type": "code",
   "execution_count": null,
   "metadata": {
    "collapsed": false
   },
   "outputs": [],
   "source": [
    "import os\n",
    "\n",
    "ref_output_dir = DATA_DIR + \"ref_output_small/\"\n",
    "\n",
    "def _diff_helper( f, unordered=False ):\n",
    "    \"\"\"\n",
    "    @param f (str) - filename to diff with reference output\n",
    "    @param unordered (bool) - whether the ordering of the lines matters\n",
    "    \"\"\"\n",
    "    if not os.path.isfile( f ):\n",
    "        print \"FAIL - {} does not exist.\".format( f )\n",
    "        return\n",
    "    \n",
    "    if unordered:\n",
    "        tmp1 = !mktemp\n",
    "        tmp1 = tmp1[0]\n",
    "        !sort {f} > {tmp1}\n",
    "        !sort {ref_output_dir + f} | diff {tmp1} - > {f}.diff\n",
    "    else:\n",
    "        !diff {f} {ref_output_dir + f} > {f}.diff\n",
    "    \n",
    "    success = _exit_code == 0\n",
    "    if success:\n",
    "        !rm {f}.diff\n",
    "        print \"PASS - {} matched reference output.\".format( f )\n",
    "    else:\n",
    "        print \"FAIL - {} did not match reference output. See {}.diff.\".format( f, f )\n",
    "        \n",
    " \n",
    "def diff_against_reference( ):\n",
    "    \"\"\"\n",
    "    Compares the output files in the current directory with the reference output.\n",
    "    If there is a difference, writes a \".diff\" file, e.g. hits.csv.diff.\n",
    "    \"\"\" \n",
    "    _diff_helper( \"hits.csv\" )\n",
    "    _diff_helper( \"sessions.csv\", unordered=True )\n",
    "    _diff_helper( \"session_length_plot.csv\" )"
   ]
  },
  {
   "cell_type": "code",
   "execution_count": null,
   "metadata": {
    "collapsed": false
   },
   "outputs": [],
   "source": [
    "process_logs_small( )\n",
    "diff_against_reference( )"
   ]
  },
  {
   "cell_type": "markdown",
   "metadata": {},
   "source": [
    "\n",
    "### Testing Memory Usage\n",
    "\n",
    "For additional testing, we've included a script that\n",
    " - (1) makes sure all of your log processing code is between the BEGIN/END STUDENT CODE CELLS above, so it will work with the test code\n",
    " - (2) runs your code with a memory cap of 1MB. If you see a `MemoryError`, it means that your code is not doing appropriate streaming and/or divide-and-conquer!\n",
    " \n",
    "Make sure to save your notebook (`File > Save and Checkpoint` or Ctrl-S) before running the next cell."
   ]
  },
  {
   "cell_type": "code",
   "execution_count": null,
   "metadata": {
    "collapsed": true
   },
   "outputs": [],
   "source": [
    "!bash test_memory_usage.sh"
   ]
  }
 ],
 "metadata": {
  "kernelspec": {
   "display_name": "Python 3",
   "language": "python",
   "name": "python3"
  },
  "language_info": {
   "codemirror_mode": {
    "name": "ipython",
    "version": 3
   },
   "file_extension": ".py",
   "mimetype": "text/x-python",
   "name": "python",
   "nbconvert_exporter": "python",
   "pygments_lexer": "ipython3",
   "version": "3.4.3"
  }
 },
 "nbformat": 4,
 "nbformat_minor": 0
}
